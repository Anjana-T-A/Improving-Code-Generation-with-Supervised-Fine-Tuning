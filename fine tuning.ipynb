{
      "cells": [
            {
                  "cell_type": "code",
                  "execution_count": 1,
                  "id": "24340942",
                  "metadata": {
                        "vscode": {
                              "languageId": "plaintext"
                        }
                  },
                  "outputs": [],
                  "source": [
                        "!pip install trl"
                  ]
            },
            {
                  "cell_type": "code",
                  "execution_count": null,
                  "id": "db0ef8ed",
                  "metadata": {},
                  "outputs": [],
                  "source": [
                        "!pip install torch"
                  ]
            }
      ],
      "metadata": {
            "kernelspec": {
                  "display_name": "concert-hall-booking-system-ODO2kJpI",
                  "language": "python",
                  "name": "python3"
            },
            "language_info": {
                  "codemirror_mode": {
                        "name": "ipython",
                        "version": 3
                  },
                  "file_extension": ".py",
                  "mimetype": "text/x-python",
                  "name": "python",
                  "nbconvert_exporter": "python",
                  "pygments_lexer": "ipython3",
                  "version": "3.12.2"
            }
      },
      "nbformat": 4,
      "nbformat_minor": 5
}
